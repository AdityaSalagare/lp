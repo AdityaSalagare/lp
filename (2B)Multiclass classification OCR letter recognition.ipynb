{
  "cells": [
    {
      "cell_type": "markdown",
      "metadata": {
        "id": "view-in-github",
        "colab_type": "text"
      },
      "source": [
        "<a href=\"https://colab.research.google.com/github/AdityaSalagare/lp/blob/main/(2B)Multiclass%20classification%20OCR%20letter%20recognition.ipynb\" target=\"_parent\"><img src=\"https://colab.research.google.com/assets/colab-badge.svg\" alt=\"Open In Colab\"/></a>"
      ]
    },
    {
      "cell_type": "code",
      "execution_count": 1,
      "metadata": {
        "id": "dFvab419rpQF"
      },
      "outputs": [],
      "source": [
        "import numpy as np\n",
        "from  tensorflow.keras.models import  Sequential\n",
        "from tensorflow.keras.layers import  Dense, Dropout, Input\n",
        "from tensorflow.keras.optimizers import  RMSprop\n",
        "from tensorflow.keras.datasets import  mnist\n",
        "import matplotlib.pyplot as plt\n",
        "from sklearn import  metrics"
      ]
    },
    {
      "cell_type": "code",
      "execution_count": 2,
      "metadata": {
        "id": "pQmyFLCurqPx"
      },
      "outputs": [],
      "source": [
        "(x_train, y_train), (x_test, y_test) = mnist.load_data()"
      ]
    },
    {
      "cell_type": "code",
      "execution_count": 3,
      "metadata": {
        "colab": {
          "base_uri": "https://localhost:8080/",
          "height": 430
        },
        "id": "aTwluWq5r4EE",
        "outputId": "5e82bfbc-9017-49fa-8f22-3f5dffdc5e76"
      },
      "outputs": [
        {
          "output_type": "display_data",
          "data": {
            "text/plain": [
              "<Figure size 640x480 with 1 Axes>"
            ],
            "image/png": "[encoded data removed]"
          },
          "metadata": {}
        }
      ],
      "source": [
        "plt.imshow(x_train[0], cmap='gray') # imshow() functionwhich simply displays an image.\n",
        "plt.show()"
      ]
    },
    {
      "cell_type": "code",
      "source": [
        "plt.imshow(x_train[1], cmap='gray') # imshow() functionwhich simply displays an image.\n",
        "plt.show()"
      ],
      "metadata": {
        "id": "pwbSkrWMXP7n",
        "outputId": "b99b4cd6-0948-428e-dc16-b5ae35b3bb4f",
        "colab": {
          "base_uri": "https://localhost:8080/",
          "height": 430
        }
      },
      "execution_count": 6,
      "outputs": [
        {
          "output_type": "display_data",
          "data": {
            "text/plain": [
              "<Figure size 640x480 with 1 Axes>"
            ],
            "image/png": "[encoded data removed]"
          },
          "metadata": {}
        }
      ]
    },
    {
      "cell_type": "code",
      "execution_count": 7,
      "metadata": {
        "colab": {
          "base_uri": "https://localhost:8080/"
        },
        "id": "sV4pA-9Sr7ML",
        "outputId": "5efee6f3-04f0-46c4-dbf5-7a788b25bbb9"
      },
      "outputs": [
        {
          "output_type": "stream",
          "name": "stdout",
          "text": [
            "[[  0   0   0   0   0   0   0   0   0   0   0   0   0   0   0   0   0   0\n",
            "    0   0   0   0   0   0   0   0   0   0]\n",
            " [  0   0   0   0   0   0   0   0   0   0   0   0   0   0   0   0   0   0\n",
            "    0   0   0   0   0   0   0   0   0   0]\n",
            " [  0   0   0   0   0   0   0   0   0   0   0   0   0   0   0   0   0   0\n",
            "    0   0   0   0   0   0   0   0   0   0]\n",
            " [  0   0   0   0   0   0   0   0   0   0   0   0   0   0   0   0   0   0\n",
            "    0   0   0   0   0   0   0   0   0   0]\n",
            " [  0   0   0   0   0   0   0   0   0   0   0   0   0   0   0   0   0   0\n",
            "    0   0   0   0   0   0   0   0   0   0]\n",
            " [  0   0   0   0   0   0   0   0   0   0   0   0   3  18  18  18 126 136\n",
            "  175  26 166 255 247 127   0   0   0   0]\n",
            " [  0   0   0   0   0   0   0   0  30  36  94 154 170 253 253 253 253 253\n",
            "  225 172 253 242 195  64   0   0   0   0]\n",
            " [  0   0   0   0   0   0   0  49 238 253 253 253 253 253 253 253 253 251\n",
            "   93  82  82  56  39   0   0   0   0   0]\n",
            " [  0   0   0   0   0   0   0  18 219 253 253 253 253 253 198 182 247 241\n",
            "    0   0   0   0   0   0   0   0   0   0]\n",
            " [  0   0   0   0   0   0   0   0  80 156 107 253 253 205  11   0  43 154\n",
            "    0   0   0   0   0   0   0   0   0   0]\n",
            " [  0   0   0   0   0   0   0   0   0  14   1 154 253  90   0   0   0   0\n",
            "    0   0   0   0   0   0   0   0   0   0]\n",
            " [  0   0   0   0   0   0   0   0   0   0   0 139 253 190   2   0   0   0\n",
            "    0   0   0   0   0   0   0   0   0   0]\n",
            " [  0   0   0   0   0   0   0   0   0   0   0  11 190 253  70   0   0   0\n",
            "    0   0   0   0   0   0   0   0   0   0]\n",
            " [  0   0   0   0   0   0   0   0   0   0   0   0  35 241 225 160 108   1\n",
            "    0   0   0   0   0   0   0   0   0   0]\n",
            " [  0   0   0   0   0   0   0   0   0   0   0   0   0  81 240 253 253 119\n",
            "   25   0   0   0   0   0   0   0   0   0]\n",
            " [  0   0   0   0   0   0   0   0   0   0   0   0   0   0  45 186 253 253\n",
            "  150  27   0   0   0   0   0   0   0   0]\n",
            " [  0   0   0   0   0   0   0   0   0   0   0   0   0   0   0  16  93 252\n",
            "  253 187   0   0   0   0   0   0   0   0]\n",
            " [  0   0   0   0   0   0   0   0   0   0   0   0   0   0   0   0   0 249\n",
            "  253 249  64   0   0   0   0   0   0   0]\n",
            " [  0   0   0   0   0   0   0   0   0   0   0   0   0   0  46 130 183 253\n",
            "  253 207   2   0   0   0   0   0   0   0]\n",
            " [  0   0   0   0   0   0   0   0   0   0   0   0  39 148 229 253 253 253\n",
            "  250 182   0   0   0   0   0   0   0   0]\n",
            " [  0   0   0   0   0   0   0   0   0   0  24 114 221 253 253 253 253 201\n",
            "   78   0   0   0   0   0   0   0   0   0]\n",
            " [  0   0   0   0   0   0   0   0  23  66 213 253 253 253 253 198  81   2\n",
            "    0   0   0   0   0   0   0   0   0   0]\n",
            " [  0   0   0   0   0   0  18 171 219 253 253 253 253 195  80   9   0   0\n",
            "    0   0   0   0   0   0   0   0   0   0]\n",
            " [  0   0   0   0  55 172 226 253 253 253 253 244 133  11   0   0   0   0\n",
            "    0   0   0   0   0   0   0   0   0   0]\n",
            " [  0   0   0   0 136 253 253 253 212 135 132  16   0   0   0   0   0   0\n",
            "    0   0   0   0   0   0   0   0   0   0]\n",
            " [  0   0   0   0   0   0   0   0   0   0   0   0   0   0   0   0   0   0\n",
            "    0   0   0   0   0   0   0   0   0   0]\n",
            " [  0   0   0   0   0   0   0   0   0   0   0   0   0   0   0   0   0   0\n",
            "    0   0   0   0   0   0   0   0   0   0]\n",
            " [  0   0   0   0   0   0   0   0   0   0   0   0   0   0   0   0   0   0\n",
            "    0   0   0   0   0   0   0   0   0   0]]\n"
          ]
        }
      ],
      "source": [
        "print(x_train[0])"
      ]
    },
    {
      "cell_type": "code",
      "execution_count": 8,
      "metadata": {
        "colab": {
          "base_uri": "https://localhost:8080/"
        },
        "id": "CpKBMfSGr-T5",
        "outputId": "55b3925c-0bd9-419c-9f81-d8bfe53e921f"
      },
      "outputs": [
        {
          "output_type": "stream",
          "name": "stdout",
          "text": [
            "X_train shape (60000, 28, 28)\n",
            "y_train shape (60000,)\n",
            "X_test shape (10000, 28, 28)\n",
            "y_test shape (10000,)\n"
          ]
        }
      ],
      "source": [
        "print(\"X_train shape\", x_train.shape)\n",
        "\n",
        "print(\"y_train shape\", y_train.shape)\n",
        "print(\"X_test shape\", x_test.shape)\n",
        "print(\"y_test shape\", y_test.shape)"
      ]
    },
    {
      "cell_type": "code",
      "execution_count": 9,
      "metadata": {
        "id": "AK7qfSF1sBaE"
      },
      "outputs": [],
      "source": [
        "x_train = x_train.reshape(60000,784)\n",
        "x_test = x_test.reshape(10000,784)\n",
        "x_train=x_train.astype('float32')"
      ]
    },
    {
      "cell_type": "code",
      "execution_count": 10,
      "metadata": {
        "id": "52lRhhtksB7t"
      },
      "outputs": [],
      "source": [
        "x_test = x_test.astype('float32')\n",
        "x_train /=255# Each image has Intensity from 0to 255\n",
        "x_test /=255"
      ]
    },
    {
      "cell_type": "code",
      "execution_count": 11,
      "metadata": {
        "id": "tczF89uNsB5K"
      },
      "outputs": [],
      "source": [
        "num_classes =10\n",
        "y_train=np.eye(num_classes)[y_train] #Returna2-Darraywithoneson thediagonal andzeros elsewhere.\n",
        "y_test=np.eye(num_classes)[y_test]"
      ]
    },
    {
      "cell_type": "code",
      "execution_count": 12,
      "metadata": {
        "id": "wB8nOjABsB0r"
      },
      "outputs": [],
      "source": [
        "model = Sequential()\n",
        "model = Sequential([Input(shape=(784,)), Dense(512, activation='relu'),])"
      ]
    },
    {
      "cell_type": "code",
      "execution_count": 13,
      "metadata": {
        "id": "_MkYzojQsBpr"
      },
      "outputs": [],
      "source": [
        "model.add(Dropout(0.2))# DROP OUT RATIO 20%"
      ]
    },
    {
      "cell_type": "code",
      "execution_count": 14,
      "metadata": {
        "id": "Ue_vzRx8sBij"
      },
      "outputs": [],
      "source": [
        "model.add(Dense(512, activation='relu'))#returns a sequence of another vectors of dimension 512\n",
        "model.add(Dropout(0.2))\n",
        "model.add(Dense(num_classes, activation='softmax'))"
      ]
    },
    {
      "cell_type": "code",
      "execution_count": 15,
      "metadata": {
        "id": "t8p8aRgRtZqX"
      },
      "outputs": [],
      "source": [
        "model.compile(loss='categorical_crossentropy', #for a multi-class classification problem\n",
        "              optimizer=RMSprop(),\n",
        "              metrics=['accuracy'])"
      ]
    },
    {
      "cell_type": "code",
      "execution_count": 16,
      "metadata": {
        "colab": {
          "base_uri": "https://localhost:8080/"
        },
        "id": "tiUw6uyPtiED",
        "outputId": "ccf20ddc-d73c-4fbc-c650-622d26523907"
      },
      "outputs": [
        {
          "output_type": "stream",
          "name": "stdout",
          "text": [
            "Epoch 1/20\n",
            "\u001b[1m469/469\u001b[0m \u001b[32m━━━━━━━━━━━━━━━━━━━━\u001b[0m\u001b[37m\u001b[0m \u001b[1m6s\u001b[0m 9ms/step - accuracy: 0.8615 - loss: 0.4426 - val_accuracy: 0.9680 - val_loss: 0.1006\n",
            "Epoch 2/20\n",
            "\u001b[1m469/469\u001b[0m \u001b[32m━━━━━━━━━━━━━━━━━━━━\u001b[0m\u001b[37m\u001b[0m \u001b[1m2s\u001b[0m 3ms/step - accuracy: 0.9666 - loss: 0.1069 - val_accuracy: 0.9739 - val_loss: 0.0817\n",
            "Epoch 3/20\n",
            "\u001b[1m469/469\u001b[0m \u001b[32m━━━━━━━━━━━━━━━━━━━━\u001b[0m\u001b[37m\u001b[0m \u001b[1m3s\u001b[0m 4ms/step - accuracy: 0.9774 - loss: 0.0729 - val_accuracy: 0.9767 - val_loss: 0.0760\n",
            "Epoch 4/20\n",
            "\u001b[1m469/469\u001b[0m \u001b[32m━━━━━━━━━━━━━━━━━━━━\u001b[0m\u001b[37m\u001b[0m \u001b[1m2s\u001b[0m 3ms/step - accuracy: 0.9818 - loss: 0.0576 - val_accuracy: 0.9791 - val_loss: 0.0709\n",
            "Epoch 5/20\n",
            "\u001b[1m469/469\u001b[0m \u001b[32m━━━━━━━━━━━━━━━━━━━━\u001b[0m\u001b[37m\u001b[0m \u001b[1m2s\u001b[0m 3ms/step - accuracy: 0.9862 - loss: 0.0442 - val_accuracy: 0.9819 - val_loss: 0.0652\n",
            "Epoch 6/20\n",
            "\u001b[1m469/469\u001b[0m \u001b[32m━━━━━━━━━━━━━━━━━━━━\u001b[0m\u001b[37m\u001b[0m \u001b[1m2s\u001b[0m 3ms/step - accuracy: 0.9883 - loss: 0.0369 - val_accuracy: 0.9808 - val_loss: 0.0691\n",
            "Epoch 7/20\n",
            "\u001b[1m469/469\u001b[0m \u001b[32m━━━━━━━━━━━━━━━━━━━━\u001b[0m\u001b[37m\u001b[0m \u001b[1m3s\u001b[0m 3ms/step - accuracy: 0.9897 - loss: 0.0316 - val_accuracy: 0.9833 - val_loss: 0.0598\n",
            "Epoch 8/20\n",
            "\u001b[1m469/469\u001b[0m \u001b[32m━━━━━━━━━━━━━━━━━━━━\u001b[0m\u001b[37m\u001b[0m \u001b[1m3s\u001b[0m 3ms/step - accuracy: 0.9911 - loss: 0.0275 - val_accuracy: 0.9819 - val_loss: 0.0685\n",
            "Epoch 9/20\n",
            "\u001b[1m469/469\u001b[0m \u001b[32m━━━━━━━━━━━━━━━━━━━━\u001b[0m\u001b[37m\u001b[0m \u001b[1m2s\u001b[0m 4ms/step - accuracy: 0.9919 - loss: 0.0258 - val_accuracy: 0.9837 - val_loss: 0.0694\n",
            "Epoch 10/20\n",
            "\u001b[1m469/469\u001b[0m \u001b[32m━━━━━━━━━━━━━━━━━━━━\u001b[0m\u001b[37m\u001b[0m \u001b[1m2s\u001b[0m 3ms/step - accuracy: 0.9938 - loss: 0.0197 - val_accuracy: 0.9843 - val_loss: 0.0706\n",
            "Epoch 11/20\n",
            "\u001b[1m469/469\u001b[0m \u001b[32m━━━━━━━━━━━━━━━━━━━━\u001b[0m\u001b[37m\u001b[0m \u001b[1m1s\u001b[0m 3ms/step - accuracy: 0.9941 - loss: 0.0197 - val_accuracy: 0.9820 - val_loss: 0.0755\n",
            "Epoch 12/20\n",
            "\u001b[1m469/469\u001b[0m \u001b[32m━━━━━━━━━━━━━━━━━━━━\u001b[0m\u001b[37m\u001b[0m \u001b[1m2s\u001b[0m 3ms/step - accuracy: 0.9943 - loss: 0.0174 - val_accuracy: 0.9836 - val_loss: 0.0714\n",
            "Epoch 13/20\n",
            "\u001b[1m469/469\u001b[0m \u001b[32m━━━━━━━━━━━━━━━━━━━━\u001b[0m\u001b[37m\u001b[0m \u001b[1m2s\u001b[0m 3ms/step - accuracy: 0.9946 - loss: 0.0165 - val_accuracy: 0.9847 - val_loss: 0.0704\n",
            "Epoch 14/20\n",
            "\u001b[1m469/469\u001b[0m \u001b[32m━━━━━━━━━━━━━━━━━━━━\u001b[0m\u001b[37m\u001b[0m \u001b[1m2s\u001b[0m 3ms/step - accuracy: 0.9962 - loss: 0.0133 - val_accuracy: 0.9847 - val_loss: 0.0734\n",
            "Epoch 15/20\n",
            "\u001b[1m469/469\u001b[0m \u001b[32m━━━━━━━━━━━━━━━━━━━━\u001b[0m\u001b[37m\u001b[0m \u001b[1m3s\u001b[0m 4ms/step - accuracy: 0.9958 - loss: 0.0126 - val_accuracy: 0.9847 - val_loss: 0.0757\n",
            "Epoch 16/20\n",
            "\u001b[1m469/469\u001b[0m \u001b[32m━━━━━━━━━━━━━━━━━━━━\u001b[0m\u001b[37m\u001b[0m \u001b[1m2s\u001b[0m 3ms/step - accuracy: 0.9954 - loss: 0.0141 - val_accuracy: 0.9844 - val_loss: 0.0809\n",
            "Epoch 17/20\n",
            "\u001b[1m469/469\u001b[0m \u001b[32m━━━━━━━━━━━━━━━━━━━━\u001b[0m\u001b[37m\u001b[0m \u001b[1m2s\u001b[0m 3ms/step - accuracy: 0.9966 - loss: 0.0102 - val_accuracy: 0.9831 - val_loss: 0.0792\n",
            "Epoch 18/20\n",
            "\u001b[1m469/469\u001b[0m \u001b[32m━━━━━━━━━━━━━━━━━━━━\u001b[0m\u001b[37m\u001b[0m \u001b[1m1s\u001b[0m 3ms/step - accuracy: 0.9964 - loss: 0.0111 - val_accuracy: 0.9846 - val_loss: 0.0750\n",
            "Epoch 19/20\n",
            "\u001b[1m469/469\u001b[0m \u001b[32m━━━━━━━━━━━━━━━━━━━━\u001b[0m\u001b[37m\u001b[0m \u001b[1m1s\u001b[0m 3ms/step - accuracy: 0.9972 - loss: 0.0080 - val_accuracy: 0.9848 - val_loss: 0.0820\n",
            "Epoch 20/20\n",
            "\u001b[1m469/469\u001b[0m \u001b[32m━━━━━━━━━━━━━━━━━━━━\u001b[0m\u001b[37m\u001b[0m \u001b[1m1s\u001b[0m 3ms/step - accuracy: 0.9968 - loss: 0.0095 - val_accuracy: 0.9856 - val_loss: 0.0764\n"
          ]
        }
      ],
      "source": [
        "batch_size =128# batch_size argument is passed tothe layer to define a batch size for the inputs.\n",
        "\n",
        "epochs =20\n",
        "history = model.fit(x_train, y_train, batch_size=batch_size, epochs=epochs,\n",
        "                    verbose=1,# verbose=1 will showyou an animated progress bar eg. [==========]\n",
        "                    validation_data=(x_test,y_test)) #Usingvalidation_datameansyouareprovidingthe training set and validation set yourself, # 60000image/128=469 batch each"
      ]
    },
    {
      "cell_type": "code",
      "execution_count": 17,
      "metadata": {
        "id": "J_NR2wrEuTzb",
        "outputId": "5be5d8c6-6b8f-4d06-84ed-fb2ec36a37bb",
        "colab": {
          "base_uri": "https://localhost:8080/"
        }
      },
      "outputs": [
        {
          "output_type": "stream",
          "name": "stdout",
          "text": [
            "Test loss: 0.07635565102100372\n",
            "Test accuracy: 0.07635565102100372\n"
          ]
        }
      ],
      "source": [
        "# Evaluate the model\n",
        "score = model.evaluate(x_test, y_test, verbose=0)\n",
        "print('Test loss:', score[0])\n",
        "print('Test accuracy:', score[0])"
      ]
    },
    {
      "cell_type": "code",
      "execution_count": 18,
      "metadata": {
        "id": "dXgRxNd_OJDO",
        "outputId": "aab25753-1141-41ba-c5a6-331b74dc946d",
        "colab": {
          "base_uri": "https://localhost:8080/"
        }
      },
      "outputs": [
        {
          "output_type": "stream",
          "name": "stdout",
          "text": [
            "\u001b[1m313/313\u001b[0m \u001b[32m━━━━━━━━━━━━━━━━━━━━\u001b[0m\u001b[37m\u001b[0m \u001b[1m1s\u001b[0m 3ms/step\n",
            "Sample  0: [4.6062753e-16 4.3219226e-13 8.4077803e-16 9.3297452e-15 2.1193492e-17\n",
            " 3.3329692e-18 1.6384973e-20 1.0000000e+00 1.0578264e-17 2.5114360e-11]\n",
            "Sample  1: [1.8511109e-18 6.9445912e-12 1.0000000e+00 2.9929517e-15 6.2579399e-22\n",
            " 9.6615897e-22 3.5355261e-17 1.6705795e-18 3.8934155e-16 2.4797648e-25]\n",
            "Sample  2: [8.2474912e-15 1.0000000e+00 9.3853605e-11 6.9205382e-16 2.6829088e-09\n",
            " 8.3964198e-12 6.0713178e-11 5.3330035e-10 3.9687701e-11 8.3777498e-16]\n",
            "Sample  3: [1.00000000e+00 7.40649946e-14 3.32613485e-11 8.48557132e-14\n",
            " 1.29772243e-11 3.82439441e-15 2.77027579e-09 1.04114234e-13\n",
            " 5.63232441e-17 2.56839515e-11]\n",
            "Sample  4: [3.0219395e-13 3.5180001e-11 9.1625167e-14 2.7315754e-16 1.0000000e+00\n",
            " 4.3512440e-17 2.1593247e-13 5.3578808e-10 1.9230401e-16 1.5456662e-08]\n",
            "Sample  5: [8.29117274e-17 1.00000000e+00 7.20048055e-15 4.68541734e-18\n",
            " 2.48341059e-09 1.10511076e-14 5.23793892e-14 1.34327591e-10\n",
            " 1.26832258e-12 5.93314617e-17]\n",
            "Sample  6: [2.7144775e-16 1.7218526e-13 2.6268315e-15 1.5991830e-17 1.0000000e+00\n",
            " 9.7000356e-14 4.6295680e-14 3.0943439e-11 4.3571249e-09 5.0178453e-08]\n",
            "Sample  7: [4.9147470e-13 5.3407339e-12 1.0275834e-08 4.9399422e-04 1.6143685e-09\n",
            " 8.7618028e-09 1.1669990e-16 5.6586096e-09 2.2970201e-09 9.9950600e-01]\n",
            "Sample  8: [2.0667230e-18 4.1202937e-11 4.7017056e-13 1.4268198e-15 1.1968614e-12\n",
            " 9.7452581e-01 2.5473230e-02 8.9011906e-17 9.2271335e-07 5.3811359e-08]\n",
            "Sample  9: [2.43948245e-20 1.11137273e-20 7.60958601e-20 1.78573240e-18\n",
            " 3.04416794e-08 1.05087119e-19 1.99782445e-22 1.00938225e-11\n",
            " 4.91756955e-17 1.00000000e+00]\n"
          ]
        }
      ],
      "source": [
        "predictions = model.predict(x_test)\n",
        "# predictions.shape == (10000, 10)\n",
        "\n",
        "# 2. Inspect the first 10 probability vectors\n",
        "for i in range(10):\n",
        "    print(f\"Sample {i:2d}: {predictions[i]}\")"
      ]
    },
    {
      "cell_type": "code",
      "execution_count": 19,
      "metadata": {
        "id": "StfM0tzZOJDO",
        "outputId": "fe829562-bae7-451e-9213-23190457b45d",
        "colab": {
          "base_uri": "https://localhost:8080/"
        }
      },
      "outputs": [
        {
          "output_type": "stream",
          "name": "stdout",
          "text": [
            "First 10 predicted labels: [7 2 1 0 4 1 4 9 5 9]\n"
          ]
        }
      ],
      "source": [
        "predicted_classes = np.argmax(predictions, axis=1)\n",
        "# predicted_classes.shape == (10000,)\n",
        "\n",
        "# Show the first 10 predicted labels\n",
        "print(\"First 10 predicted labels:\", predicted_classes[:10])"
      ]
    },
    {
      "cell_type": "code",
      "source": [],
      "metadata": {
        "id": "tKY-B-zcUxA_"
      },
      "execution_count": 19,
      "outputs": []
    }
  ],
  "metadata": {
    "accelerator": "GPU",
    "colab": {
      "gpuType": "T4",
      "provenance": [],
      "include_colab_link": true
    },
    "kernelspec": {
      "display_name": "Python 3 (ipykernel)",
      "language": "python",
      "name": "python3"
    },
    "language_info": {
      "codemirror_mode": {
        "name": "ipython",
        "version": 3
      },
      "file_extension": ".py",
      "mimetype": "text/x-python",
      "name": "python",
      "nbconvert_exporter": "python",
      "pygments_lexer": "ipython3",
      "version": "3.12.2"
    }
  },
  "nbformat": 4,
  "nbformat_minor": 0
}