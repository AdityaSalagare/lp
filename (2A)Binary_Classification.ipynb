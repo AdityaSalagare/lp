{
  "cells": [
    {
      "cell_type": "markdown",
      "metadata": {
        "id": "view-in-github",
        "colab_type": "text"
      },
      "source": [
        "<a href=\"https://colab.research.google.com/github/AdityaSalagare/lp/blob/main/(2A)Binary_Classification.ipynb\" target=\"_parent\"><img src=\"https://colab.research.google.com/assets/colab-badge.svg\" alt=\"Open In Colab\"/></a>"
      ]
    },
    {
      "cell_type": "markdown",
      "metadata": {
        "id": "HdJ-cJGzNTCc"
      },
      "source": [
        "### Import Packages"
      ]
    },
    {
      "cell_type": "code",
      "execution_count": 1,
      "metadata": {
        "id": "wJG2N5z9NTCd"
      },
      "outputs": [],
      "source": [
        "import numpy as np\n",
        "from keras.datasets import imdb\n",
        "from keras import models\n",
        "from keras import layers\n",
        "from keras import optimizers\n",
        "from keras import losses\n",
        "from keras import metrics\n",
        "\n",
        "\n",
        "import matplotlib.pyplot as plt\n",
        "%matplotlib inline"
      ]
    },
    {
      "cell_type": "markdown",
      "metadata": {
        "id": "3_sOTzovNTCf"
      },
      "source": [
        "### Loading the Data"
      ]
    },
    {
      "cell_type": "code",
      "execution_count": 2,
      "metadata": {
        "id": "cGklqT5xNTCg"
      },
      "outputs": [],
      "source": [
        "# Load the data, keeping only 10,000 of the most frequently occuring words\n",
        "(train_data, train_labels), (test_data, test_labels) = imdb.load_data(num_words = 10000)"
      ]
    },
    {
      "cell_type": "code",
      "execution_count": 3,
      "metadata": {
        "id": "16J1kv_tNTCg",
        "outputId": "2e14abe8-c4a6-472d-a792-ca8a2475c8c8",
        "colab": {
          "base_uri": "https://localhost:8080/"
        }
      },
      "outputs": [
        {
          "output_type": "execute_result",
          "data": {
            "text/plain": [
              "array([list([1, 14, 22, 16, 43, 530, 973, 1622, 1385, 65, 458, 4468, 66, 3941, 4, 173, 36, 256, 5, 25, 100, 43, 838, 112, 50, 670, 2, 9, 35, 480, 284, 5, 150, 4, 172, 112, 167, 2, 336, 385, 39, 4, 172, 4536, 1111, 17, 546, 38, 13, 447, 4, 192, 50, 16, 6, 147, 2025, 19, 14, 22, 4, 1920, 4613, 469, 4, 22, 71, 87, 12, 16, 43, 530, 38, 76, 15, 13, 1247, 4, 22, 17, 515, 17, 12, 16, 626, 18, 2, 5, 62, 386, 12, 8, 316, 8, 106, 5, 4, 2223, 5244, 16, 480, 66, 3785, 33, 4, 130, 12, 16, 38, 619, 5, 25, 124, 51, 36, 135, 48, 25, 1415, 33, 6, 22, 12, 215, 28, 77, 52, 5, 14, 407, 16, 82, 2, 8, 4, 107, 117, 5952, 15, 256, 4, 2, 7, 3766, 5, 723, 36, 71, 43, 530, 476, 26, 400, 317, 46, 7, 4, 2, 1029, 13, 104, 88, 4, 381, 15, 297, 98, 32, 2071, 56, 26, 141, 6, 194, 7486, 18, 4, 226, 22, 21, 134, 476, 26, 480, 5, 144, 30, 5535, 18, 51, 36, 28, 224, 92, 25, 104, 4, 226, 65, 16, 38, 1334, 88, 12, 16, 283, 5, 16, 4472, 113, 103, 32, 15, 16, 5345, 19, 178, 32]),\n",
              "       list([1, 194, 1153, 194, 8255, 78, 228, 5, 6, 1463, 4369, 5012, 134, 26, 4, 715, 8, 118, 1634, 14, 394, 20, 13, 119, 954, 189, 102, 5, 207, 110, 3103, 21, 14, 69, 188, 8, 30, 23, 7, 4, 249, 126, 93, 4, 114, 9, 2300, 1523, 5, 647, 4, 116, 9, 35, 8163, 4, 229, 9, 340, 1322, 4, 118, 9, 4, 130, 4901, 19, 4, 1002, 5, 89, 29, 952, 46, 37, 4, 455, 9, 45, 43, 38, 1543, 1905, 398, 4, 1649, 26, 6853, 5, 163, 11, 3215, 2, 4, 1153, 9, 194, 775, 7, 8255, 2, 349, 2637, 148, 605, 2, 8003, 15, 123, 125, 68, 2, 6853, 15, 349, 165, 4362, 98, 5, 4, 228, 9, 43, 2, 1157, 15, 299, 120, 5, 120, 174, 11, 220, 175, 136, 50, 9, 4373, 228, 8255, 5, 2, 656, 245, 2350, 5, 4, 9837, 131, 152, 491, 18, 2, 32, 7464, 1212, 14, 9, 6, 371, 78, 22, 625, 64, 1382, 9, 8, 168, 145, 23, 4, 1690, 15, 16, 4, 1355, 5, 28, 6, 52, 154, 462, 33, 89, 78, 285, 16, 145, 95])],\n",
              "      dtype=object)"
            ]
          },
          "metadata": {},
          "execution_count": 3
        }
      ],
      "source": [
        "train_data[:2]"
      ]
    },
    {
      "cell_type": "code",
      "execution_count": 4,
      "metadata": {
        "id": "r7luw6IrNTCg",
        "outputId": "83ee6c51-0a93-4ae6-edcc-9e4353c1cb8d",
        "colab": {
          "base_uri": "https://localhost:8080/"
        }
      },
      "outputs": [
        {
          "output_type": "execute_result",
          "data": {
            "text/plain": [
              "array([1, 0, 0, ..., 0, 1, 0])"
            ]
          },
          "metadata": {},
          "execution_count": 4
        }
      ],
      "source": [
        "train_labels"
      ]
    },
    {
      "cell_type": "code",
      "execution_count": 5,
      "metadata": {
        "scrolled": true,
        "id": "iEoDVc0UNTCh",
        "outputId": "13026247-710e-49b0-df27-a7e2072b38bd",
        "colab": {
          "base_uri": "https://localhost:8080/"
        }
      },
      "outputs": [
        {
          "output_type": "execute_result",
          "data": {
            "text/plain": [
              "np.int64(1)"
            ]
          },
          "metadata": {},
          "execution_count": 5
        }
      ],
      "source": [
        "# Check the first label\n",
        "train_labels[0]"
      ]
    },
    {
      "cell_type": "code",
      "execution_count": 6,
      "metadata": {
        "id": "Wd5TRUj8NTCh",
        "outputId": "ca4c12f7-dd7d-4302-d140-48bda0188d72",
        "colab": {
          "base_uri": "https://localhost:8080/"
        }
      },
      "outputs": [
        {
          "output_type": "stream",
          "name": "stdout",
          "text": [
            "<class 'list'>\n"
          ]
        },
        {
          "output_type": "execute_result",
          "data": {
            "text/plain": [
              "9999"
            ]
          },
          "metadata": {},
          "execution_count": 6
        }
      ],
      "source": [
        "# Since we restricted ourselves to the top 10000 frequent words, no word index should exceed 10000\n",
        "# we'll verify this below\n",
        "\n",
        "# Here is a list of maximum indexes in every review --- we search the maximum index in this list of max indexes\n",
        "print(type([max(sequence) for sequence in train_data]))\n",
        "\n",
        "# Find the maximum of all max indexes\n",
        "max([max(sequence) for sequence in train_data])"
      ]
    },
    {
      "cell_type": "code",
      "execution_count": 7,
      "metadata": {
        "id": "9jEj8_X2NTCh",
        "outputId": "6843e938-a386-4302-f106-32095e8ca5f0",
        "colab": {
          "base_uri": "https://localhost:8080/",
          "height": 163
        }
      },
      "outputs": [
        {
          "output_type": "execute_result",
          "data": {
            "text/plain": [
              "\"? this film was just brilliant casting location scenery story direction everyone's really suited the part they played and you could just imagine being there robert ? is an amazing actor and now the same being director ? father came from the same scottish island as myself so i loved the fact there was a real connection with this film the witty remarks throughout the film were great it was just brilliant so much that i bought the film as soon as it was released for ? and would recommend it to everyone to watch and the fly fishing was amazing really cried at the end it was so sad and you know what they say if you cry at a film it must have been good and this definitely was also ? to the two little boy's that played the ? of norman and paul they were just brilliant children are often left out of the ? list i think because the stars that play them all grown up are such a big profile for the whole film but these children are amazing and should be praised for what they have done don't you think the whole story was so lovely because it was true and was someone's life after all that was shared with us all\""
            ],
            "application/vnd.google.colaboratory.intrinsic+json": {
              "type": "string"
            }
          },
          "metadata": {},
          "execution_count": 7
        }
      ],
      "source": [
        "# Let's quickly decode a review\n",
        "\n",
        "# step 1: load the dictionary mappings from word to integer index\n",
        "word_index = imdb.get_word_index()\n",
        "\n",
        "# step 2: reverse word index to map integer indexes to their respective words\n",
        "reverse_word_index = dict([(value, key) for (key, value) in word_index.items()])\n",
        "\n",
        "# Step 3: decode the review, mapping integer indices to words\n",
        "#\n",
        "# indices are off by 3 because 0, 1, and 2 are reserverd indices for \"padding\", \"Start of sequence\" and \"unknown\"\n",
        "decoded_review = ' '.join([reverse_word_index.get(i-3, '?') for i in train_data[0]])\n",
        "\n",
        "decoded_review"
      ]
    },
    {
      "cell_type": "code",
      "execution_count": 8,
      "metadata": {
        "id": "wRLXKX3fNTCh",
        "outputId": "6a2c5736-437e-40a2-afef-9f4ef3d7c377",
        "colab": {
          "base_uri": "https://localhost:8080/"
        }
      },
      "outputs": [
        {
          "output_type": "execute_result",
          "data": {
            "text/plain": [
              "88584"
            ]
          },
          "metadata": {},
          "execution_count": 8
        }
      ],
      "source": [
        "len(reverse_word_index)"
      ]
    },
    {
      "cell_type": "markdown",
      "metadata": {
        "id": "OYp0VCJHNTCi"
      },
      "source": [
        "We cannot feed list of integers into our deep neural network. We will need to convert them into tensors.\n",
        "\n",
        "To prepare our data we will One-hot Encode our lists and turn them into vectors of 0's and 1's. This would blow up all of our sequences into 10,000 dimensional vectors containing 1 at all indices corresponding to integers present in that sequence. This vector will have the element 0 at all indices which are not present in integer sequence.\n",
        "\n",
        "Simply put, the 10,000 dimensional vector corresponding to each review, will have\n",
        "\n",
        "* Every index corresponding to a word\n",
        "* Every index vith value 1, is a word which is present in the review and is denoted by its integer counterpart\n",
        "* Every index containing 0, is a word not present in the review\n",
        "\n",
        "We will vectorize our data manually for maximum clarity. This will result in a tensors of shape (25000, 10000)."
      ]
    },
    {
      "cell_type": "code",
      "execution_count": 9,
      "metadata": {
        "id": "nisUwlQ6NTCi"
      },
      "outputs": [],
      "source": [
        "def vectorize_sequences(sequences, dimension=10000):\n",
        "    results = np.zeros((len(sequences), dimension))    # Creates an all zero matrix of shape (len(sequences),10K)\n",
        "    for i,sequence in enumerate(sequences):\n",
        "        results[i,sequence] = 1                        # Sets specific indices of results[i] to 1s\n",
        "    return results\n",
        "\n",
        "# Vectorize training Data\n",
        "X_train = vectorize_sequences(train_data)\n",
        "\n",
        "# Vectorize testing Data\n",
        "X_test = vectorize_sequences(test_data)"
      ]
    },
    {
      "cell_type": "code",
      "execution_count": 10,
      "metadata": {
        "id": "P9HzxTebNTCi",
        "outputId": "7d0caa67-c91a-4eb3-9c46-00d766cfaab2",
        "colab": {
          "base_uri": "https://localhost:8080/"
        }
      },
      "outputs": [
        {
          "output_type": "execute_result",
          "data": {
            "text/plain": [
              "array([0., 1., 1., ..., 0., 0., 0.])"
            ]
          },
          "metadata": {},
          "execution_count": 10
        }
      ],
      "source": [
        "X_train[0]"
      ]
    },
    {
      "cell_type": "code",
      "execution_count": 11,
      "metadata": {
        "id": "6Yk3Kq1LNTCi",
        "outputId": "68c886aa-a724-4f94-f0b1-dd459e777ea3",
        "colab": {
          "base_uri": "https://localhost:8080/"
        }
      },
      "outputs": [
        {
          "output_type": "execute_result",
          "data": {
            "text/plain": [
              "(25000, 10000)"
            ]
          },
          "metadata": {},
          "execution_count": 11
        }
      ],
      "source": [
        "X_train.shape"
      ]
    },
    {
      "cell_type": "markdown",
      "metadata": {
        "id": "8zoLx0vqNTCi"
      },
      "source": [
        "### Vectorize labels"
      ]
    },
    {
      "cell_type": "code",
      "execution_count": 12,
      "metadata": {
        "id": "JL4ksVanNTCj"
      },
      "outputs": [],
      "source": [
        "y_train = np.asarray(train_labels).astype('float32')\n",
        "y_test  = np.asarray(test_labels).astype('float32')"
      ]
    },
    {
      "cell_type": "markdown",
      "metadata": {
        "id": "KcurOIfUNTCj"
      },
      "source": [
        "Our input data is vectors which needs to be mapped to scaler labels (0s and 1s). This is one of the easiest setups and a simple stack of _fully-connected_, _Dense_ layers with _relu_ activation perform quite well.\n",
        "\n",
        "### Hidden layers\n",
        "\n",
        "In this network we will leverage _hidden layers_. we will define our layers as such.\n",
        "\n",
        "```python\n",
        "Dense(16, activation='relu')\n",
        "```\n",
        "The argument being passed to each `Dense` layer, `(16)` is the number of _hidden units_ of a layer.\n",
        "\n",
        "The output from a _Dense_ layer with _relu_ activation is genrated after a chain of _tensor_ operations. This chain of operations is implemented as\n",
        "\n",
        "    output = relu(dot(W, input) + b)\n",
        "Where, `W` is the _Weight matrix_ and `b` is the bias (tensor).\n",
        "\n",
        "Having 16 hidden units means that the matrix W will be of the shape ( _input_Dimension_ , _16_ ). In this case where the dimension of input vector is 10,000; the shape of Weight matrix will be (10000, 16). If you were to represent this network as graph you would see 16 neurons in this hidden layer.\n",
        "\n",
        "To put in in laymans terms, there will be 16 balls in this layer.\n",
        "\n",
        "Each of these balls, or _hidden units_ is a dimension in the representation space of the layer. Representaion space is the set of all viable representaions for the data. Every _hidden layer_ composed of its _hidden units_ aims to learns one specific transformation of the data, or one feature/pattern from the data.\n",
        "\n",
        "Hidden layers, simply put, are layers of mathematical functions each designed to produce an output specific to an intended result. Hidden layers allow for the function of a neural network to be broken down into specific transformations of the data. Each hidden layer function is specialized to produce a defined output.For example, a hidden layer functions that are used to identify human eyes and ears may be used in conjunction by subsequent layers to identify faces in images. While the functions to identify eyes alone are not enough to independently recognize objects, they can function jointly within a neural network.\n",
        "\n"
      ]
    },
    {
      "cell_type": "markdown",
      "metadata": {
        "id": "XA5bOcP1NTCj"
      },
      "source": [
        "### Model Architecture\n",
        "\n",
        "1. For our model we will use\n",
        "   * two intermediate layers with 16 hidden units each\n",
        "   * Third layer that will output the scalar sentiment prediction\n",
        "   \n",
        "\n",
        "2. Intermediate layers will use _relu_ activation function. _relu_ or Rectified linear unit function will zero out the negative values.\n",
        "\n",
        "\n",
        "3. Sigmoid activation for the final layer or _output layer_. A sigmoid function \"_squashes_\" arbitary values into the [0,1] range.\n",
        "\n",
        "\n",
        "There are formal principles that guide our appraoch in selecting the architectural attributes of a model. These are not covered in this case study."
      ]
    },
    {
      "cell_type": "markdown",
      "metadata": {
        "id": "eSE9JVwGNTCj"
      },
      "source": [
        "### Model defination"
      ]
    },
    {
      "cell_type": "code",
      "execution_count": 13,
      "metadata": {
        "id": "reEzY9otNTCj",
        "outputId": "a1d4e75a-955f-4118-d05a-c0f8997723a4",
        "colab": {
          "base_uri": "https://localhost:8080/"
        }
      },
      "outputs": [
        {
          "output_type": "stream",
          "name": "stderr",
          "text": [
            "/usr/local/lib/python3.11/dist-packages/keras/src/layers/core/dense.py:87: UserWarning: Do not pass an `input_shape`/`input_dim` argument to a layer. When using Sequential models, prefer using an `Input(shape)` object as the first layer in the model instead.\n",
            "  super().__init__(activity_regularizer=activity_regularizer, **kwargs)\n"
          ]
        }
      ],
      "source": [
        "model = models.Sequential()\n",
        "model.add(layers.Dense(16, activation='relu', input_shape=(10000,)))\n",
        "model.add(layers.Dense(16, activation='relu'))\n",
        "model.add(layers.Dense(1, activation='sigmoid'))"
      ]
    },
    {
      "cell_type": "markdown",
      "metadata": {
        "id": "NPY1JfqiNTCj"
      },
      "source": [
        "## Compiling the model"
      ]
    },
    {
      "cell_type": "markdown",
      "metadata": {
        "id": "wTmMidTtNTCj"
      },
      "source": [
        "In this step we will choose an _optimizer_, a _loss function_, and metrics to observe. We will go forward with\n",
        "* _binary_crossentropy_ loss function, commonlu used for Binary Classification\n",
        "* _rmsprop_ optimizer and\n",
        "* _accuracy_ as a measure of performance\n",
        "\n",
        "We can pass our choices for optimizer, loss function and metrics as _strings_ to the `compile` function because `rmsprop`, `binary_crossentropy` and `accuracy` come packaged with Keras.\n",
        "\n",
        "```python\n",
        "model.complie(\n",
        "    optimizer='rmsprop',\n",
        "    loss = 'binary_crossentropy',\n",
        "    metrics = ['accuracy']\n",
        ")\n",
        "```\n",
        "\n",
        "One could use a customized loss function or ortimizer by passing the custom _class instance_ as argument to the `loss`, `optimizer` or `mertics` fields.\n",
        "\n",
        "In this example, we will implement our default choices, but, we will do so by passing class instances. This is exactly how we would do it, if we had customized parameters."
      ]
    },
    {
      "cell_type": "code",
      "execution_count": 14,
      "metadata": {
        "id": "9We0KXvmNTCj"
      },
      "outputs": [],
      "source": [
        "model.compile(\n",
        "    optimizer=optimizers.RMSprop(learning_rate=0.001),\n",
        "    loss = losses.binary_crossentropy,\n",
        "    metrics = [metrics.binary_accuracy]\n",
        ")"
      ]
    },
    {
      "cell_type": "markdown",
      "metadata": {
        "id": "9t7M5XNZNTCk"
      },
      "source": [
        "## Setting up Validation\n",
        "\n",
        "We will set aside a part of our training data for _validation_ of the accuracy of the model as it trains. A _validation set_ enables us to monitor the progress of our model on previously unseen data as it goes throug epochs during training.\n",
        "\n",
        "Validation steps help us fine tune the training parameters of the `model.fit` function so as to avoid overfitting and under fitting of data."
      ]
    },
    {
      "cell_type": "code",
      "execution_count": 15,
      "metadata": {
        "id": "DrUcS6vVNTCk"
      },
      "outputs": [],
      "source": [
        "# Input for Validation\n",
        "X_val = X_train[:10000]\n",
        "partial_X_train = X_train[10000:]\n",
        "\n",
        "# Labels for validation\n",
        "y_val = y_train[:10000]\n",
        "partial_y_train = y_train[10000:]"
      ]
    },
    {
      "cell_type": "markdown",
      "metadata": {
        "id": "fmIpZUQFNTCk"
      },
      "source": [
        "# Training our model"
      ]
    },
    {
      "cell_type": "markdown",
      "metadata": {
        "id": "1NDn0aZINTCk"
      },
      "source": [
        "Initially, we will train our models for 20 epochs in mini-batches of 512 samples. We will aslo pass our _validation set_ to the `fit` method.\n",
        "\n",
        "Calling the `fit` method returns a `History` object. This object contains a member `history` which stores all data  about the training process including the values of observable or monitored quantaties as the epochs proceed. We will save this object to better determine the fine tuning to be applied to the training step."
      ]
    },
    {
      "cell_type": "code",
      "execution_count": 16,
      "metadata": {
        "id": "-99hc7RBNTCk",
        "outputId": "16b2bb47-c43d-4b14-d81b-23b581c8157f",
        "colab": {
          "base_uri": "https://localhost:8080/"
        }
      },
      "outputs": [
        {
          "output_type": "stream",
          "name": "stdout",
          "text": [
            "Epoch 1/20\n",
            "\u001b[1m30/30\u001b[0m \u001b[32m━━━━━━━━━━━━━━━━━━━━\u001b[0m\u001b[37m\u001b[0m \u001b[1m4s\u001b[0m 102ms/step - binary_accuracy: 0.6852 - loss: 0.5966 - val_binary_accuracy: 0.8573 - val_loss: 0.3963\n",
            "Epoch 2/20\n",
            "\u001b[1m30/30\u001b[0m \u001b[32m━━━━━━━━━━━━━━━━━━━━\u001b[0m\u001b[37m\u001b[0m \u001b[1m3s\u001b[0m 38ms/step - binary_accuracy: 0.8957 - loss: 0.3325 - val_binary_accuracy: 0.8853 - val_loss: 0.3057\n",
            "Epoch 3/20\n",
            "\u001b[1m30/30\u001b[0m \u001b[32m━━━━━━━━━━━━━━━━━━━━\u001b[0m\u001b[37m\u001b[0m \u001b[1m1s\u001b[0m 43ms/step - binary_accuracy: 0.9216 - loss: 0.2391 - val_binary_accuracy: 0.8885 - val_loss: 0.2797\n",
            "Epoch 4/20\n",
            "\u001b[1m30/30\u001b[0m \u001b[32m━━━━━━━━━━━━━━━━━━━━\u001b[0m\u001b[37m\u001b[0m \u001b[1m1s\u001b[0m 39ms/step - binary_accuracy: 0.9356 - loss: 0.1947 - val_binary_accuracy: 0.8805 - val_loss: 0.2952\n",
            "Epoch 5/20\n",
            "\u001b[1m30/30\u001b[0m \u001b[32m━━━━━━━━━━━━━━━━━━━━\u001b[0m\u001b[37m\u001b[0m \u001b[1m1s\u001b[0m 40ms/step - binary_accuracy: 0.9514 - loss: 0.1539 - val_binary_accuracy: 0.8813 - val_loss: 0.2998\n",
            "Epoch 6/20\n",
            "\u001b[1m30/30\u001b[0m \u001b[32m━━━━━━━━━━━━━━━━━━━━\u001b[0m\u001b[37m\u001b[0m \u001b[1m1s\u001b[0m 36ms/step - binary_accuracy: 0.9614 - loss: 0.1312 - val_binary_accuracy: 0.8794 - val_loss: 0.3127\n",
            "Epoch 7/20\n",
            "\u001b[1m30/30\u001b[0m \u001b[32m━━━━━━━━━━━━━━━━━━━━\u001b[0m\u001b[37m\u001b[0m \u001b[1m1s\u001b[0m 35ms/step - binary_accuracy: 0.9669 - loss: 0.1129 - val_binary_accuracy: 0.8799 - val_loss: 0.3046\n",
            "Epoch 8/20\n",
            "\u001b[1m30/30\u001b[0m \u001b[32m━━━━━━━━━━━━━━━━━━━━\u001b[0m\u001b[37m\u001b[0m \u001b[1m2s\u001b[0m 54ms/step - binary_accuracy: 0.9748 - loss: 0.0949 - val_binary_accuracy: 0.8809 - val_loss: 0.3281\n",
            "Epoch 9/20\n",
            "\u001b[1m30/30\u001b[0m \u001b[32m━━━━━━━━━━━━━━━━━━━━\u001b[0m\u001b[37m\u001b[0m \u001b[1m3s\u001b[0m 67ms/step - binary_accuracy: 0.9786 - loss: 0.0821 - val_binary_accuracy: 0.8795 - val_loss: 0.3249\n",
            "Epoch 10/20\n",
            "\u001b[1m30/30\u001b[0m \u001b[32m━━━━━━━━━━━━━━━━━━━━\u001b[0m\u001b[37m\u001b[0m \u001b[1m1s\u001b[0m 35ms/step - binary_accuracy: 0.9821 - loss: 0.0730 - val_binary_accuracy: 0.8649 - val_loss: 0.3908\n",
            "Epoch 11/20\n",
            "\u001b[1m30/30\u001b[0m \u001b[32m━━━━━━━━━━━━━━━━━━━━\u001b[0m\u001b[37m\u001b[0m \u001b[1m1s\u001b[0m 35ms/step - binary_accuracy: 0.9837 - loss: 0.0653 - val_binary_accuracy: 0.8734 - val_loss: 0.3685\n",
            "Epoch 12/20\n",
            "\u001b[1m30/30\u001b[0m \u001b[32m━━━━━━━━━━━━━━━━━━━━\u001b[0m\u001b[37m\u001b[0m \u001b[1m1s\u001b[0m 35ms/step - binary_accuracy: 0.9886 - loss: 0.0529 - val_binary_accuracy: 0.8799 - val_loss: 0.3777\n",
            "Epoch 13/20\n",
            "\u001b[1m30/30\u001b[0m \u001b[32m━━━━━━━━━━━━━━━━━━━━\u001b[0m\u001b[37m\u001b[0m \u001b[1m1s\u001b[0m 36ms/step - binary_accuracy: 0.9918 - loss: 0.0428 - val_binary_accuracy: 0.8785 - val_loss: 0.4087\n",
            "Epoch 14/20\n",
            "\u001b[1m30/30\u001b[0m \u001b[32m━━━━━━━━━━━━━━━━━━━━\u001b[0m\u001b[37m\u001b[0m \u001b[1m2s\u001b[0m 55ms/step - binary_accuracy: 0.9925 - loss: 0.0371 - val_binary_accuracy: 0.8766 - val_loss: 0.4272\n",
            "Epoch 15/20\n",
            "\u001b[1m30/30\u001b[0m \u001b[32m━━━━━━━━━━━━━━━━━━━━\u001b[0m\u001b[37m\u001b[0m \u001b[1m1s\u001b[0m 49ms/step - binary_accuracy: 0.9947 - loss: 0.0304 - val_binary_accuracy: 0.8745 - val_loss: 0.4388\n",
            "Epoch 16/20\n",
            "\u001b[1m30/30\u001b[0m \u001b[32m━━━━━━━━━━━━━━━━━━━━\u001b[0m\u001b[37m\u001b[0m \u001b[1m3s\u001b[0m 101ms/step - binary_accuracy: 0.9967 - loss: 0.0253 - val_binary_accuracy: 0.8655 - val_loss: 0.5124\n",
            "Epoch 17/20\n",
            "\u001b[1m30/30\u001b[0m \u001b[32m━━━━━━━━━━━━━━━━━━━━\u001b[0m\u001b[37m\u001b[0m \u001b[1m3s\u001b[0m 95ms/step - binary_accuracy: 0.9953 - loss: 0.0278 - val_binary_accuracy: 0.8735 - val_loss: 0.4922\n",
            "Epoch 18/20\n",
            "\u001b[1m30/30\u001b[0m \u001b[32m━━━━━━━━━━━━━━━━━━━━\u001b[0m\u001b[37m\u001b[0m \u001b[1m2s\u001b[0m 70ms/step - binary_accuracy: 0.9984 - loss: 0.0172 - val_binary_accuracy: 0.8740 - val_loss: 0.5077\n",
            "Epoch 19/20\n",
            "\u001b[1m30/30\u001b[0m \u001b[32m━━━━━━━━━━━━━━━━━━━━\u001b[0m\u001b[37m\u001b[0m \u001b[1m2s\u001b[0m 65ms/step - binary_accuracy: 0.9986 - loss: 0.0138 - val_binary_accuracy: 0.8667 - val_loss: 0.5417\n",
            "Epoch 20/20\n",
            "\u001b[1m30/30\u001b[0m \u001b[32m━━━━━━━━━━━━━━━━━━━━\u001b[0m\u001b[37m\u001b[0m \u001b[1m3s\u001b[0m 70ms/step - binary_accuracy: 0.9997 - loss: 0.0111 - val_binary_accuracy: 0.8433 - val_loss: 0.6988\n"
          ]
        }
      ],
      "source": [
        "history = model.fit(\n",
        "    partial_X_train,\n",
        "    partial_y_train,\n",
        "    epochs=20,\n",
        "    batch_size=512,\n",
        "    validation_data=(X_val, y_val)\n",
        ")"
      ]
    },
    {
      "cell_type": "markdown",
      "metadata": {
        "id": "UUZKPj1fNTCk"
      },
      "source": [
        "At the end of training we have attained a training accuracy of 99.85% and validation accuracy of 86.57%\n",
        "\n",
        "Now that we have trained our network, we will observe its performance metrics stored in the `History` object.\n",
        "\n",
        "Calling the `fit` method returns a `History` object. This object has an sttribute `history` which is a dictionary containing four enteries: one per monitored metric."
      ]
    },
    {
      "cell_type": "code",
      "execution_count": 17,
      "metadata": {
        "id": "S4CnoN-bNTCl",
        "outputId": "e0df71a9-d1c1-4166-8e4e-115df1dec95d",
        "colab": {
          "base_uri": "https://localhost:8080/"
        }
      },
      "outputs": [
        {
          "output_type": "execute_result",
          "data": {
            "text/plain": [
              "dict_keys(['binary_accuracy', 'loss', 'val_binary_accuracy', 'val_loss'])"
            ]
          },
          "metadata": {},
          "execution_count": 17
        }
      ],
      "source": [
        "history_dict = history.history\n",
        "history_dict.keys()"
      ]
    },
    {
      "cell_type": "markdown",
      "metadata": {
        "id": "9wtUjG2oNTCl"
      },
      "source": [
        "`history_dict` contains values of\n",
        "* Training loss\n",
        "* Trainining Accuracy\n",
        "* Validation Loss\n",
        "* Validation Accuracy\n",
        "\n",
        "at the end of each epoch.\n",
        "\n",
        "Let's use Matplotlib to plot Training and validation losses and Traing and Validation Accuracy side by side."
      ]
    },
    {
      "cell_type": "code",
      "execution_count": 18,
      "metadata": {
        "id": "vo4iL0OxNTCl",
        "outputId": "65000bc8-ce56-4856-eb4a-509f86b76e8b",
        "colab": {
          "base_uri": "https://localhost:8080/",
          "height": 472
        }
      },
      "outputs": [
        {
          "output_type": "display_data",
          "data": {
            "text/plain": [
              "<Figure size 640x480 with 1 Axes>"
            ],
            "image/png": "[encoded data removed]"
          },
          "metadata": {}
        }
      ],
      "source": [
        "# Plotting losses\n",
        "loss_values = history_dict['loss']\n",
        "val_loss_values = history_dict['val_loss']\n",
        "\n",
        "epochs = range(1, len(loss_values) + 1)\n",
        "\n",
        "plt.plot(epochs, loss_values, 'g', label=\"Training Loss\")\n",
        "plt.plot(epochs, val_loss_values, 'b', label=\"Validation Loss\")\n",
        "\n",
        "plt.title('Training and Validation Loss')\n",
        "plt.xlabel('Epochs')\n",
        "plt.ylabel('Loss Value')\n",
        "plt.legend()\n",
        "\n",
        "plt.show()"
      ]
    },
    {
      "cell_type": "code",
      "execution_count": 19,
      "metadata": {
        "id": "QF-alIzgNTCl",
        "outputId": "62c0dcb5-f65f-4d93-f96e-3901b834a566",
        "colab": {
          "base_uri": "https://localhost:8080/",
          "height": 472
        }
      },
      "outputs": [
        {
          "output_type": "display_data",
          "data": {
            "text/plain": [
              "<Figure size 640x480 with 1 Axes>"
            ],
            "image/png": "[encoded data removed]"
          },
          "metadata": {}
        }
      ],
      "source": [
        "# Training and Validation Accuracy\n",
        "\n",
        "acc_values = history_dict['binary_accuracy']\n",
        "val_acc_values = history_dict['val_binary_accuracy']\n",
        "\n",
        "epochs = range(1, len(loss_values) + 1)\n",
        "\n",
        "plt.plot(epochs, acc_values, 'g', label=\"Training Accuracy\")\n",
        "plt.plot(epochs, val_acc_values, 'b', label=\"Validation Accuracy\")\n",
        "\n",
        "plt.title('Training and Validation Accuraccy')\n",
        "plt.xlabel('Epochs')\n",
        "plt.ylabel('Accuracy')\n",
        "plt.legend()\n",
        "\n",
        "plt.show()"
      ]
    },
    {
      "cell_type": "markdown",
      "metadata": {
        "id": "d2ccFuaUNTCl"
      },
      "source": [
        "We observe that _minimum validation loss_ and _maximum validation Accuracy_ is achived at around 3-5 epochs. After that we observe 2 trends:\n",
        "* increase in validation loss and decrese in training loss\n",
        "* decrease in validation accuracy and increase in training accuracy\n",
        "\n",
        "This implies that the model is getting better at classifying the sentiment of the training data, but making consistently worse predictions when it encounters new, previously unseed data. This is the hallmark of _Overfitting_. After the 5th epoch the model begins to fit too closely to the trainning data.\n",
        "\n",
        "To address overfitting, we will reduce the number of epochs to somewhere between 3 and 5. These results may vary depending on your machine and due to the very nature of the random assignment of weights that may vary from model to mode.\n",
        "\n",
        "In our case we will stop training after 3 epochs."
      ]
    },
    {
      "cell_type": "markdown",
      "metadata": {
        "id": "Mbf3CdtBNTCl"
      },
      "source": [
        "### Retraining our model"
      ]
    },
    {
      "cell_type": "code",
      "execution_count": 20,
      "metadata": {
        "id": "9ZYtUbcLNTCl",
        "outputId": "1b6e3180-26d4-4541-a5cf-10bc86a7bd56",
        "colab": {
          "base_uri": "https://localhost:8080/"
        }
      },
      "outputs": [
        {
          "output_type": "stream",
          "name": "stdout",
          "text": [
            "Epoch 1/3\n",
            "\u001b[1m30/30\u001b[0m \u001b[32m━━━━━━━━━━━━━━━━━━━━\u001b[0m\u001b[37m\u001b[0m \u001b[1m4s\u001b[0m 123ms/step - binary_accuracy: 0.9980 - loss: 0.0143 - val_binary_accuracy: 0.8648 - val_loss: 0.5846\n",
            "Epoch 2/3\n",
            "\u001b[1m30/30\u001b[0m \u001b[32m━━━━━━━━━━━━━━━━━━━━\u001b[0m\u001b[37m\u001b[0m \u001b[1m1s\u001b[0m 45ms/step - binary_accuracy: 0.9994 - loss: 0.0083 - val_binary_accuracy: 0.8710 - val_loss: 0.5906\n",
            "Epoch 3/3\n",
            "\u001b[1m30/30\u001b[0m \u001b[32m━━━━━━━━━━━━━━━━━━━━\u001b[0m\u001b[37m\u001b[0m \u001b[1m1s\u001b[0m 44ms/step - binary_accuracy: 0.9999 - loss: 0.0064 - val_binary_accuracy: 0.8692 - val_loss: 0.6116\n"
          ]
        },
        {
          "output_type": "execute_result",
          "data": {
            "text/plain": [
              "<keras.src.callbacks.history.History at 0x7c83d8484a10>"
            ]
          },
          "metadata": {},
          "execution_count": 20
        }
      ],
      "source": [
        "model.fit(\n",
        "    partial_X_train,\n",
        "    partial_y_train,\n",
        "    epochs=3,\n",
        "    batch_size=512,\n",
        "    validation_data=(X_val, y_val)\n",
        ")"
      ]
    },
    {
      "cell_type": "markdown",
      "metadata": {
        "id": "ea4YlOsCNTCm"
      },
      "source": [
        "In the end we achive a _training accuracy_ of 99.95% and a _validation accuray_ of 87%"
      ]
    },
    {
      "cell_type": "markdown",
      "metadata": {
        "id": "duZrQyoUNTCm"
      },
      "source": [
        "## Model Evaluation"
      ]
    },
    {
      "cell_type": "code",
      "execution_count": 21,
      "metadata": {
        "id": "EmHW7ALqNTCm",
        "outputId": "09bc4445-320a-4405-8fca-62ff27ac7f86",
        "colab": {
          "base_uri": "https://localhost:8080/"
        }
      },
      "outputs": [
        {
          "output_type": "stream",
          "name": "stdout",
          "text": [
            "\u001b[1m782/782\u001b[0m \u001b[32m━━━━━━━━━━━━━━━━━━━━\u001b[0m\u001b[37m\u001b[0m \u001b[1m2s\u001b[0m 2ms/step\n"
          ]
        }
      ],
      "source": [
        "# Making Predictions for testing data\n",
        "np.set_printoptions(suppress=True)\n",
        "result = model.predict(X_test)"
      ]
    },
    {
      "cell_type": "code",
      "execution_count": 22,
      "metadata": {
        "id": "Fj4MTNr2NTCm",
        "outputId": "56547fd3-0ba4-4cc5-e132-f689f2e57993",
        "colab": {
          "base_uri": "https://localhost:8080/"
        }
      },
      "outputs": [
        {
          "output_type": "execute_result",
          "data": {
            "text/plain": [
              "array([[0.02541014],\n",
              "       [0.9999994 ],\n",
              "       [0.8900001 ],\n",
              "       ...,\n",
              "       [0.00144101],\n",
              "       [0.01902941],\n",
              "       [0.96528596]], dtype=float32)"
            ]
          },
          "metadata": {},
          "execution_count": 22
        }
      ],
      "source": [
        "result"
      ]
    },
    {
      "cell_type": "code",
      "execution_count": 23,
      "metadata": {
        "id": "QppfwQXYNTCm",
        "outputId": "5922dbd0-aae4-44f0-9896-82fb1a22b29c",
        "colab": {
          "base_uri": "https://localhost:8080/"
        }
      },
      "outputs": [
        {
          "output_type": "stream",
          "name": "stderr",
          "text": [
            "<ipython-input-23-d06888fff3d2>:3: DeprecationWarning: Conversion of an array with ndim > 0 to a scalar is deprecated, and will error in future. Ensure you extract a single element from your array before performing this operation. (Deprecated NumPy 1.25.)\n",
            "  y_pred[i] = np.round(score)\n"
          ]
        }
      ],
      "source": [
        "y_pred = np.zeros(len(result))\n",
        "for i, score in enumerate(result):\n",
        "    y_pred[i] = np.round(score)"
      ]
    },
    {
      "cell_type": "code",
      "execution_count": 24,
      "metadata": {
        "id": "bVFox5H8NTCn",
        "outputId": "87765cad-48b1-417c-f499-ef4e214f484f",
        "colab": {
          "base_uri": "https://localhost:8080/"
        }
      },
      "outputs": [
        {
          "output_type": "execute_result",
          "data": {
            "text/plain": [
              "<tf.Tensor: shape=(), dtype=float32, numpy=0.14312000572681427>"
            ]
          },
          "metadata": {},
          "execution_count": 24
        }
      ],
      "source": [
        "mae = metrics.mean_absolute_error(y_pred, y_test)\n",
        "mae"
      ]
    },
    {
      "cell_type": "markdown",
      "metadata": {
        "id": "2ATVwZuYNTCn"
      },
      "source": []
    },
    {
      "cell_type": "code",
      "execution_count": 25,
      "metadata": {
        "id": "35Qq84NENTCn",
        "outputId": "366b1855-b11e-438a-a67a-2d50a8d88889",
        "colab": {
          "base_uri": "https://localhost:8080/"
        }
      },
      "outputs": [
        {
          "output_type": "stream",
          "name": "stdout",
          "text": [
            "Sample  0: score = 0.0254 → predicted = 0\n",
            "Sample  1: score = 1.0000 → predicted = 1\n",
            "Sample  2: score = 0.8900 → predicted = 1\n",
            "Sample  3: score = 0.9823 → predicted = 1\n",
            "Sample  4: score = 0.9982 → predicted = 1\n",
            "Sample  5: score = 0.9993 → predicted = 1\n",
            "Sample  6: score = 0.9999 → predicted = 1\n",
            "Sample  7: score = 0.0000 → predicted = 0\n",
            "Sample  8: score = 0.9985 → predicted = 1\n",
            "Sample  9: score = 1.0000 → predicted = 1\n"
          ]
        }
      ],
      "source": [
        "# raw output scores for the first 10 test samples\n",
        "scores_10 = result[:10].flatten()\n",
        "\n",
        "# rounded class predictions for the first 10 test samples\n",
        "preds_10 = y_pred[:10]\n",
        "\n",
        "for i in range(10):\n",
        "    print(f\"Sample {i:2d}: score = {scores_10[i]:.4f} → predicted = {int(preds_10[i])}\")"
      ]
    },
    {
      "cell_type": "code",
      "source": [],
      "metadata": {
        "id": "NwUvKbFuSAoc"
      },
      "execution_count": 25,
      "outputs": []
    }
  ],
  "metadata": {
    "kernelspec": {
      "display_name": "Python 3 (ipykernel)",
      "language": "python",
      "name": "python3"
    },
    "language_info": {
      "codemirror_mode": {
        "name": "ipython",
        "version": 3
      },
      "file_extension": ".py",
      "mimetype": "text/x-python",
      "name": "python",
      "nbconvert_exporter": "python",
      "pygments_lexer": "ipython3",
      "version": "3.12.2"
    },
    "colab": {
      "provenance": [],
      "include_colab_link": true
    }
  },
  "nbformat": 4,
  "nbformat_minor": 0
}